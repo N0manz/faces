{
 "cells": [
  {
   "cell_type": "code",
   "execution_count": 1,
   "metadata": {},
   "outputs": [],
   "source": [
    "import numpy as np\n",
    "import tensorflow as tf\n",
    "from tensorflow.keras.layers import Input, Flatten, Dense, Dropout, GlobalAveragePooling2D\n",
    "from tensorflow.keras.applications.mobilenet import MobileNet, preprocess_input\n",
    "from tensorflow.keras.losses import BinaryCrossentropy\n",
    "from tensorflow.keras.metrics import Accuracy\n",
    "from tensorflow.keras.optimizers import Adam\n",
    "from tensorflow.keras.models import Model\n",
    "from tensorflow.keras.preprocessing import image\n",
    "import pickle\n",
    "import math\n",
    "import matplotlib.pyplot as plt\n",
    "from tensorflow.keras.preprocessing.image import ImageDataGenerator\n",
    "from keras.models import load_model"
   ]
  },
  {
   "cell_type": "code",
   "execution_count": 2,
   "metadata": {},
   "outputs": [],
   "source": [
    "TRAIN_DIR = r'D:\\faces\\three_faces\\train_dataset'\n",
    "TRAIN_SAMPLES = 150\n",
    "\n",
    "VAL_DIR = r'D:\\faces\\three_faces\\validation_dataset'\n",
    "VAL_SAMPLES = 15\n",
    "\n",
    "TEST_DIR = r'D:\\faces\\three_faces\\validation_dataset'\n",
    "CATEGORIES = ['gates', 'musk']\n",
    "NUM_CLASSES = 2\n",
    "BATCH_SIZE = 32\n",
    "IMG_SIZE = 224"
   ]
  },
  {
   "cell_type": "code",
   "execution_count": 3,
   "metadata": {},
   "outputs": [],
   "source": [
    "train_datagen = ImageDataGenerator(preprocessing_function=preprocess_input,\n",
    "                                   rotation_range=20,\n",
    "                                   width_shift_range=0.2,\n",
    "                                   height_shift_range=0.2,\n",
    "                                   zoom_range=0.2)\n",
    "val_datagen = ImageDataGenerator(preprocessing_function=preprocess_input)"
   ]
  },
  {
   "cell_type": "code",
   "execution_count": 4,
   "metadata": {},
   "outputs": [
    {
     "name": "stdout",
     "output_type": "stream",
     "text": [
      "Found 274 images belonging to 2 classes.\n",
      "Found 30 images belonging to 2 classes.\n"
     ]
    }
   ],
   "source": [
    "train_generator = train_datagen.flow_from_directory(TRAIN_DIR,\n",
    "                                                    target_size=(IMG_SIZE, IMG_SIZE),\n",
    "                                                    batch_size=BATCH_SIZE,\n",
    "                                                    shuffle=True,\n",
    "                                                    seed=12345,\n",
    "                                                    class_mode='categorical'\n",
    "                                                    )\n",
    "\n",
    "validation_generator = train_datagen.flow_from_directory(VAL_DIR,\n",
    "                                                    target_size=(IMG_SIZE, IMG_SIZE),\n",
    "                                                    batch_size=BATCH_SIZE,\n",
    "                                                    shuffle=False,\n",
    "                                                    class_mode='categorical'\n",
    "                                                    )"
   ]
  },
  {
   "cell_type": "code",
   "execution_count": 5,
   "metadata": {},
   "outputs": [],
   "source": [
    "def model_maker():\n",
    "    base_model = MobileNet(include_top=False, input_shape=(224, 224, 3))\n",
    "    for layer in base_model.layers[:]:\n",
    "        layer.trainable = False\n",
    "    input = Input(shape=(224, 224, 3))\n",
    "    custom_model = base_model(input)\n",
    "    custom_model = GlobalAveragePooling2D()(custom_model)\n",
    "    custom_model = Dense(32, activation=\"relu\")(custom_model)\n",
    "    custom_model = Dropout(0.5)(custom_model)\n",
    "    predictions = Dense(2, activation=\"softmax\")(custom_model)\n",
    "    return Model(inputs=input, outputs=predictions)"
   ]
  },
  {
   "cell_type": "code",
   "execution_count": 6,
   "metadata": {},
   "outputs": [],
   "source": [
    "model = model_maker()\n",
    "model.compile(loss=\"categorical_crossentropy\",\n",
    "              optimizer=Adam(learning_rate=0.001),\n",
    "              metrics=['Accuracy']\n",
    "              )"
   ]
  },
  {
   "cell_type": "code",
   "execution_count": 7,
   "metadata": {},
   "outputs": [],
   "source": [
    "num_steps = math.ceil(float(TRAIN_SAMPLES) /BATCH_SIZE)"
   ]
  },
  {
   "cell_type": "code",
   "execution_count": 8,
   "metadata": {},
   "outputs": [
    {
     "name": "stderr",
     "output_type": "stream",
     "text": [
      "C:\\Users\\user\\AppData\\Local\\Temp\\ipykernel_13448\\3271922972.py:1: UserWarning: `Model.fit_generator` is deprecated and will be removed in a future version. Please use `Model.fit`, which supports generators.\n",
      "  model.fit_generator(train_generator, epochs=10, validation_data= validation_generator,)\n"
     ]
    },
    {
     "name": "stdout",
     "output_type": "stream",
     "text": [
      "Epoch 1/10\n",
      "9/9 [==============================] - 10s 875ms/step - loss: 1.0951 - Accuracy: 0.5255 - val_loss: 0.8302 - val_Accuracy: 0.6333\n",
      "Epoch 2/10\n",
      "9/9 [==============================] - 6s 687ms/step - loss: 0.5991 - Accuracy: 0.6788 - val_loss: 0.6638 - val_Accuracy: 0.6667\n",
      "Epoch 3/10\n",
      "9/9 [==============================] - 6s 658ms/step - loss: 0.5136 - Accuracy: 0.7482 - val_loss: 0.7062 - val_Accuracy: 0.6667\n",
      "Epoch 4/10\n",
      "9/9 [==============================] - 6s 680ms/step - loss: 0.4831 - Accuracy: 0.7701 - val_loss: 0.7202 - val_Accuracy: 0.7000\n",
      "Epoch 5/10\n",
      "9/9 [==============================] - 6s 673ms/step - loss: 0.3821 - Accuracy: 0.8540 - val_loss: 0.4946 - val_Accuracy: 0.8333\n",
      "Epoch 6/10\n",
      "9/9 [==============================] - 6s 678ms/step - loss: 0.3848 - Accuracy: 0.8394 - val_loss: 0.5255 - val_Accuracy: 0.8000\n",
      "Epoch 7/10\n",
      "9/9 [==============================] - 6s 685ms/step - loss: 0.3333 - Accuracy: 0.8723 - val_loss: 0.6175 - val_Accuracy: 0.8000\n",
      "Epoch 8/10\n",
      "9/9 [==============================] - 6s 674ms/step - loss: 0.3038 - Accuracy: 0.8832 - val_loss: 0.4167 - val_Accuracy: 0.8333\n",
      "Epoch 9/10\n",
      "9/9 [==============================] - 6s 654ms/step - loss: 0.2415 - Accuracy: 0.9161 - val_loss: 0.4350 - val_Accuracy: 0.8000\n",
      "Epoch 10/10\n",
      "9/9 [==============================] - 6s 651ms/step - loss: 0.2287 - Accuracy: 0.9197 - val_loss: 0.4334 - val_Accuracy: 0.8667\n"
     ]
    },
    {
     "data": {
      "text/plain": [
       "<keras.callbacks.History at 0x1e7b02f4d50>"
      ]
     },
     "execution_count": 8,
     "metadata": {},
     "output_type": "execute_result"
    }
   ],
   "source": [
    "model.fit_generator(train_generator, epochs=10, validation_data= validation_generator,)"
   ]
  },
  {
   "cell_type": "code",
   "execution_count": 10,
   "metadata": {},
   "outputs": [],
   "source": [
    "model.save(r'D:\\faces\\model\\model.h5')"
   ]
  },
  {
   "cell_type": "code",
   "execution_count": 11,
   "metadata": {},
   "outputs": [],
   "source": [
    "model = load_model(r'D:\\faces\\model\\model.h5')"
   ]
  },
  {
   "cell_type": "code",
   "execution_count": 12,
   "metadata": {},
   "outputs": [],
   "source": [
    "TEST_DIR = r'D:\\faces\\test_data\\roflan_ebalo2.jpg'\n",
    "\n",
    "img = image.load_img(TEST_DIR, target_size=(224, 224))\n",
    "img_array = image.img_to_array(img)\n",
    "exp_img_arr = np.expand_dims(img_array, axis=0)\n",
    "preprocessed_img = preprocess_input(exp_img_arr)\n"
   ]
  },
  {
   "cell_type": "code",
   "execution_count": 13,
   "metadata": {},
   "outputs": [
    {
     "name": "stdout",
     "output_type": "stream",
     "text": [
      "1/1 [==============================] - 1s 634ms/step\n",
      "[[0.45006695 0.5499331 ]]\n",
      "{'gates': 0, 'musk': 1}\n"
     ]
    }
   ],
   "source": [
    "prediction = model.predict(preprocessed_img)\n",
    "print(prediction)\n",
    "print(validation_generator.class_indices)"
   ]
  }
 ],
 "metadata": {
  "kernelspec": {
   "display_name": "Python 3",
   "language": "python",
   "name": "python3"
  },
  "language_info": {
   "codemirror_mode": {
    "name": "ipython",
    "version": 3
   },
   "file_extension": ".py",
   "mimetype": "text/x-python",
   "name": "python",
   "nbconvert_exporter": "python",
   "pygments_lexer": "ipython3",
   "version": "3.11.4"
  },
  "orig_nbformat": 4
 },
 "nbformat": 4,
 "nbformat_minor": 2
}
